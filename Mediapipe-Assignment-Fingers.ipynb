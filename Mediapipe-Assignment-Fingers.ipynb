{
 "cells": [
  {
   "cell_type": "code",
   "execution_count": null,
   "id": "f94c1f15",
   "metadata": {},
   "outputs": [],
   "source": [
    "#Installing required library\n",
    "!pip install mediapipe opencv-python"
   ]
  },
  {
   "cell_type": "code",
   "execution_count": 5,
   "id": "f6d722dd",
   "metadata": {},
   "outputs": [],
   "source": [
    "#Importing the library\n",
    "\n",
    "\n",
    "import cv2\n",
    "import mediapipe\n",
    "import time"
   ]
  },
  {
   "cell_type": "code",
   "execution_count": 6,
   "id": "55dd4843",
   "metadata": {},
   "outputs": [],
   "source": [
    "ctime=0\n",
    "ptime=0"
   ]
  },
  {
   "cell_type": "code",
   "execution_count": null,
   "id": "ff40abbd",
   "metadata": {},
   "outputs": [
    {
     "name": "stderr",
     "output_type": "stream",
     "text": [
      "INFO: Created TensorFlow Lite XNNPACK delegate for CPU.\n"
     ]
    }
   ],
   "source": [
    "#Read using video input\n",
    "cap=cv2.VideoCapture(0) \n",
    "\n",
    "medhands=mediapipe.solutions.hands\n",
    "hands=medhands.Hands(max_num_hands=1,min_detection_confidence=0.7)\n",
    "draw=mediapipe.solutions.drawing_utils\n",
    "while True:\n",
    "    success, img=cap.read()\n",
    "    img = cv2.flip(img,1)\n",
    "    imgrgb = cv2.cvtColor(img, cv2.COLOR_BGR2RGB)    \n",
    "    res = hands.process(imgrgb)\n",
    "    \n",
    "    lmlist=[]\n",
    "    tipids=[4,8,12,16,20] #list of all landmarks of the tips of fingers\n",
    "    \n",
    "    cv2.rectangle(img,(20,350),(90,440),(0,255,204),cv2.FILLED)\n",
    "    cv2.rectangle(img,(20,350),(90,440),(0,0,0),5)\n",
    "    \n",
    "    if res.multi_hand_landmarks:\n",
    "        for handlms in res.multi_hand_landmarks:\n",
    "            for id,lm in enumerate(handlms.landmark):\n",
    "                \n",
    "                h,w,c= img.shape\n",
    "                cx,cy=int(lm.x * w) , int(lm.y * h)\n",
    "                lmlist.append([id,cx,cy])\n",
    "                if len(lmlist) != 0 and len(lmlist)==21:\n",
    "                    fingerlist=[]\n",
    "                    \n",
    "                    #thumb and dealing with flipping of hands\n",
    "                    if lmlist[12][1] > lmlist[20][1]:\n",
    "                        if lmlist[tipids[0]][1] > lmlist[tipids[0]-1][1]:\n",
    "                            fingerlist.append(1)\n",
    "                        else:\n",
    "                            fingerlist.append(0)\n",
    "                    else:\n",
    "                        if lmlist[tipids[0]][1] < lmlist[tipids[0]-1][1]:\n",
    "                            fingerlist.append(1)\n",
    "                        else:\n",
    "                            fingerlist.append(0)\n",
    "                    \n",
    "                    #others\n",
    "                    for id in range (1,5):\n",
    "                        if lmlist[tipids[id]][2] < lmlist[tipids[id]-2][2]:\n",
    "                            fingerlist.append(1)\n",
    "                        else:\n",
    "                            fingerlist.append(0)\n",
    "                    \n",
    "                    \n",
    "                    if len(fingerlist)!=0:\n",
    "                        fingercount=fingerlist.count(1)\n",
    "                    \n",
    "                    \n",
    "                    cv2.putText(img,str(fingercount),(25,430),cv2.FONT_HERSHEY_PLAIN,6,(0,0,0),5)\n",
    "                    \n",
    "                #change color of points and lines\n",
    "                draw.draw_landmarks(img,handlms,medhands.HAND_CONNECTIONS,draw.DrawingSpec(color=(0,255,204),thickness=2,circle_radius=2),draw.DrawingSpec(color=(0,0,0),thickness=2,circle_radius=3))\n",
    "    \n",
    "    #fps counter\n",
    "    ctime = time.time()\n",
    "    fps=1/(ctime-ptime)\n",
    "    ptime=ctime\n",
    "    \n",
    "    #fps display\n",
    "    cv2.putText(img,f'FPS:{str(int(fps))}',(0,12),cv2.FONT_HERSHEY_PLAIN,1,(0,255,0),1)\n",
    "          \n",
    "    cv2.imshow(\"hand gestures\",img)\n",
    "    \n",
    "    #press q to quit camera\n",
    "    if cv2.waitKey(1) == ord('q'):\n",
    "        break"
   ]
  },
  {
   "cell_type": "code",
   "execution_count": null,
   "id": "85f86967",
   "metadata": {},
   "outputs": [],
   "source": [
    "#Close camera with Q\n",
    "cv2.destroyAllWindows()"
   ]
  }
 ],
 "metadata": {
  "kernelspec": {
   "display_name": "Python 3.9.13 64-bit",
   "language": "python",
   "name": "python3"
  },
  "language_info": {
   "codemirror_mode": {
    "name": "ipython",
    "version": 3
   },
   "file_extension": ".py",
   "mimetype": "text/x-python",
   "name": "python",
   "nbconvert_exporter": "python",
   "pygments_lexer": "ipython3",
   "version": "3.9.13"
  },
  "vscode": {
   "interpreter": {
    "hash": "aee8b7b246df8f9039afb4144a1f6fd8d2ca17a180786b69acc140d282b71a49"
   }
  }
 },
 "nbformat": 4,
 "nbformat_minor": 5
}
